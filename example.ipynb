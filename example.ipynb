{
 "cells": [
  {
   "cell_type": "markdown",
   "id": "18272822-66ca-4ca1-bec9-81e527a5bba7",
   "metadata": {},
   "source": [
    "# LLM ChatBot Class Example\n",
    "## Author: Simon-Pierre Boucher\n",
    "\n",
    "## Introduction\n",
    "\n",
    "In the rapidly evolving landscape of artificial intelligence, **Language Learning Models (LLMs)** have become indispensable tools for a myriad of applications, ranging from natural language understanding to advanced content generation. This Jupyter Notebook showcases the practical implementation of the `ChatBot` class, a versatile Python class designed to interact seamlessly with multiple LLM providers: **OpenAI**, **Anthropic**, and **Mistral**.\n",
    "\n",
    "### Objectives\n",
    "\n",
    "- **Demonstrate Multi-Provider Interaction**: Utilize the `ChatBot` class to engage with different LLM providers, showcasing its flexibility and extensibility.\n",
    "- **Execute Multiple Exchanges**: Perform three distinct conversational exchanges with each provider to illustrate response generation and handling.\n",
    "- **Compare Model Responses**: Facilitate the benchmarking and comparison of responses across various models and providers to assess their capabilities and performance.\n",
    "- **Enhance Readability with Markdown**: Display the generated responses in a formatted Markdown style for clear and organized presentation within the notebook.\n",
    "\n",
    "### About the `ChatBot` Class\n",
    "\n",
    "The `ChatBot` class is a centralized interface that abstracts the complexities of interacting with different LLM APIs. By initializing the class with the desired provider and model, users can effortlessly send prompts and receive formatted responses. Key features include:\n",
    "\n",
    "- **Unified Interface**: A single class to manage interactions with multiple LLM providers.\n",
    "- **Configurable Parameters**: Customize settings such as `temperature`, `max_tokens`, and `top_p` to control the creativity and length of the responses.\n",
    "- **Conversation History Management**: Maintain a coherent conversation by tracking the history of messages exchanged between the user and the assistant.\n",
    "- **Error Handling**: Robust mechanisms to manage API request failures and other potential issues gracefully.\n",
    "\n",
    "### Providers and Models Utilized\n",
    "\n",
    "This notebook interacts with a comprehensive set of models from each provider, ensuring a broad spectrum of response styles and capabilities:\n",
    "\n",
    "#### **OpenAI**\n",
    "- `gpt-4o`\n",
    "- `gpt-4o-mini`\n",
    "- `gpt-4-turbo`\n",
    "- `gpt-4`\n",
    "- `gpt-3.5-turbo`\n",
    "\n",
    "#### **Anthropic**\n",
    "- `claude-3-5-sonnet-20241022`\n",
    "- `claude-3-opus-20240229`\n",
    "- `claude-3-sonnet-20240229`\n",
    "- `claude-3-haiku-20240307`\n",
    "\n",
    "#### **Mistral**\n",
    "- `mistral-small-latest`\n",
    "- `mistral-medium-latest`\n",
    "- `mistral-large-latest`\n",
    "- `open-mistral-7b`\n",
    "- `open-mixtral-8x7b`\n",
    "- `open-mixtral-8x22b`\n",
    "\n",
    "### Structure of the Notebook\n",
    "\n",
    "1. **Setup and Configuration**:\n",
    "    - **Environment Variables**: Securely load API keys from a `.env` file using the `dotenv` library.\n",
    "    - **Imports**: Import necessary libraries, including `requests`, `IPython.display`, and the custom `ChatBot` class from `llm_utils.py`.\n",
    "\n",
    "2. **Defining User Inputs**:\n",
    "    - **Base Prompts**: Establish three different user inputs for each provider to initiate meaningful conversations.\n",
    "\n",
    "3. **Generating and Displaying Responses**:\n",
    "    - **ChatBot Initialization**: Initialize the `ChatBot` class for each provider and model.\n",
    "    - **Exchanges**: Send the defined user inputs to the respective models and retrieve responses.\n",
    "    - **Markdown Formatting**: Display the assistant's responses in a readable Markdown format for easy analysis.\n",
    "\n"
   ]
  },
  {
   "cell_type": "code",
   "execution_count": 1,
   "id": "bd89cff5-0e2c-44a9-9b77-31d730c8b573",
   "metadata": {},
   "outputs": [
    {
     "data": {
      "text/plain": [
       "True"
      ]
     },
     "execution_count": 1,
     "metadata": {},
     "output_type": "execute_result"
    }
   ],
   "source": [
    "import os\n",
    "from IPython.display import display, Markdown\n",
    "from llm_utils import ChatBot\n",
    "\n",
    "# Load environment variables from .env\n",
    "from dotenv import load_dotenv\n",
    "load_dotenv()"
   ]
  },
  {
   "cell_type": "markdown",
   "id": "328ad382-a9da-4bbb-b269-0982b6f5e88c",
   "metadata": {},
   "source": [
    "## Initialize ChatBot with OpenAI"
   ]
  },
  {
   "cell_type": "code",
   "execution_count": 2,
   "id": "022950f7-1609-491a-94e7-f0484f0f94eb",
   "metadata": {},
   "outputs": [],
   "source": [
    "bot_openai = ChatBot(\n",
    "    provider=\"openai\",\n",
    "    model=\"gpt-4o-mini\",\n",
    "    temperature=0.7,\n",
    "    max_tokens=1500,\n",
    "    top_p=0.9\n",
    ")"
   ]
  },
  {
   "cell_type": "markdown",
   "id": "a73b31af-61b8-4941-bf3b-31c787d27bab",
   "metadata": {},
   "source": [
    "## Define OpenAI user inputs"
   ]
  },
  {
   "cell_type": "code",
   "execution_count": 3,
   "id": "d205c418-ebf9-4e9b-a56b-eb950617be86",
   "metadata": {},
   "outputs": [],
   "source": [
    "user_inputs_openai = [\n",
    "    \"Can you suggest 5 dinner ideas for this week?\",\n",
    "    \"Give me the recipe for Monday's meal\",\n",
    "    \"Give me the recipe for Friday's meal\"\n",
    "]\n",
    "\n"
   ]
  },
  {
   "cell_type": "markdown",
   "id": "8d19e4f2-76f0-4aa4-a2ec-1c7e8dd5a3ea",
   "metadata": {},
   "source": [
    "## Perform three exchanges with OpenAI"
   ]
  },
  {
   "cell_type": "code",
   "execution_count": 4,
   "id": "bb731238-0b3e-455c-8336-b8acf254d24f",
   "metadata": {},
   "outputs": [
    {
     "data": {
      "text/markdown": [
       "### OpenAI Exchange 1"
      ],
      "text/plain": [
       "<IPython.core.display.Markdown object>"
      ]
     },
     "metadata": {},
     "output_type": "display_data"
    },
    {
     "data": {
      "text/markdown": [
       "**Provider:** Openai | **Model:** gpt-4o-mini  \n",
       "**Tokens Used:** 248  \n",
       "\n",
       "**Assistant:**\n",
       "\n",
       "Sure! Here are five dinner ideas for the week:\n",
       "\n",
       "1. **Lemon Garlic Herb Chicken with Roasted Vegetables**\n",
       "   - Marinate chicken breasts in lemon juice, garlic, and mixed herbs. Roast alongside seasonal vegetables like carrots, bell peppers, and zucchini.\n",
       "\n",
       "2. **Vegetarian Stir-Fry with Tofu**\n",
       "   - Sauté a mix of your favorite vegetables (broccoli, bell peppers, snap peas) with cubed tofu in soy sauce and ginger. Serve over steamed jasmine rice or quinoa.\n",
       "\n",
       "3. **Taco Night**\n",
       "   - Prepare ground beef or turkey seasoned with taco spices. Serve with taco shells, shredded lettuce, diced tomatoes, cheese, avocado, and salsa for a build-your-own taco experience.\n",
       "\n",
       "4. **Pasta Primavera**\n",
       "   - Cook your choice of pasta and toss it with sautéed seasonal vegetables (like asparagus, cherry tomatoes, and spinach) in olive oil and garlic. Top with grated Parmesan cheese.\n",
       "\n",
       "5. **Baked Salmon with Quinoa Salad**\n",
       "   - Season salmon fillets with lemon and dill, then bake until flaky. Serve with a refreshing quinoa salad made with cucumbers, cherry tomatoes, parsley, and a lemon vinaigrette.\n",
       "\n",
       "Enjoy your week of dinners!\n"
      ],
      "text/plain": [
       "<IPython.core.display.Markdown object>"
      ]
     },
     "metadata": {},
     "output_type": "display_data"
    },
    {
     "data": {
      "text/markdown": [
       "---"
      ],
      "text/plain": [
       "<IPython.core.display.Markdown object>"
      ]
     },
     "metadata": {},
     "output_type": "display_data"
    },
    {
     "data": {
      "text/markdown": [
       "### OpenAI Exchange 2"
      ],
      "text/plain": [
       "<IPython.core.display.Markdown object>"
      ]
     },
     "metadata": {},
     "output_type": "display_data"
    },
    {
     "data": {
      "text/markdown": [
       "**Provider:** Openai | **Model:** gpt-4o-mini  \n",
       "**Tokens Used:** 526  \n",
       "\n",
       "**Assistant:**\n",
       "\n",
       "Sure! Here’s a detailed recipe for **Lemon Garlic Herb Chicken with Roasted Vegetables**:\n",
       "\n",
       "### Lemon Garlic Herb Chicken with Roasted Vegetables\n",
       "\n",
       "#### Ingredients:\n",
       "\n",
       "**For the Chicken:**\n",
       "- 4 boneless, skinless chicken breasts\n",
       "- 1/4 cup olive oil\n",
       "- 2 lemons (juice and zest of one lemon, juice of the other)\n",
       "- 4 cloves garlic, minced\n",
       "- 1 teaspoon dried oregano\n",
       "- 1 teaspoon dried thyme\n",
       "- Salt and pepper to taste\n",
       "\n",
       "**For the Roasted Vegetables:**\n",
       "- 2 cups mixed vegetables (e.g., carrots, bell peppers, zucchini, broccoli)\n",
       "- 2 tablespoons olive oil\n",
       "- Salt and pepper to taste\n",
       "- Optional: 1 teaspoon Italian seasoning or your favorite herbs\n",
       "\n",
       "#### Instructions:\n",
       "\n",
       "1. **Marinate the Chicken:**\n",
       "   - In a bowl, whisk together olive oil, lemon juice, lemon zest, minced garlic, oregano, thyme, salt, and pepper.\n",
       "   - Place the chicken breasts in a resealable plastic bag or a shallow dish and pour the marinade over them. Seal the bag or cover the dish and refrigerate for at least 30 minutes (up to 2 hours for more flavor).\n",
       "\n",
       "2. **Preheat the Oven:**\n",
       "   - Preheat your oven to 400°F (200°C).\n",
       "\n",
       "3. **Prepare the Vegetables:**\n",
       "   - While the chicken is marinating, wash and chop your mixed vegetables into bite-sized pieces.\n",
       "   - In a large bowl, toss the vegetables with olive oil, salt, pepper, and optional Italian seasoning until evenly coated.\n",
       "\n",
       "4. **Roast the Vegetables:**\n",
       "   - Spread the vegetables in a single layer on a baking sheet. Roast in the preheated oven for about 20-25 minutes, or until they are tender and slightly caramelized, stirring halfway through.\n",
       "\n",
       "5. **Cook the Chicken:**\n",
       "   - While the vegetables are roasting, heat a grill pan or skillet over medium-high heat. Remove the chicken from the marinade and discard the marinade.\n",
       "   - Cook the chicken for about 6-7 minutes on each side, or until the internal temperature reaches 165°F (75°C) and the chicken is golden brown. Alternatively, you can bake the chicken in the oven for about 20-25 minutes, depending on thickness.\n",
       "\n",
       "6. **Serve:**\n",
       "   - Once everything is cooked, plate the chicken alongside the roasted vegetables. You can garnish with additional lemon wedges or fresh herbs if desired.\n",
       "\n",
       "### Enjoy your delicious Lemon Garlic Herb Chicken with Roasted Vegetables!\n"
      ],
      "text/plain": [
       "<IPython.core.display.Markdown object>"
      ]
     },
     "metadata": {},
     "output_type": "display_data"
    },
    {
     "data": {
      "text/markdown": [
       "---"
      ],
      "text/plain": [
       "<IPython.core.display.Markdown object>"
      ]
     },
     "metadata": {},
     "output_type": "display_data"
    },
    {
     "data": {
      "text/markdown": [
       "### OpenAI Exchange 3"
      ],
      "text/plain": [
       "<IPython.core.display.Markdown object>"
      ]
     },
     "metadata": {},
     "output_type": "display_data"
    },
    {
     "data": {
      "text/markdown": [
       "**Provider:** Openai | **Model:** gpt-4o-mini  \n",
       "**Tokens Used:** 547  \n",
       "\n",
       "**Assistant:**\n",
       "\n",
       "Sure! Here’s a detailed recipe for **Baked Salmon with Quinoa Salad**:\n",
       "\n",
       "### Baked Salmon with Quinoa Salad\n",
       "\n",
       "#### Ingredients:\n",
       "\n",
       "**For the Baked Salmon:**\n",
       "- 4 salmon fillets (about 6 ounces each)\n",
       "- 2 tablespoons olive oil\n",
       "- 2 tablespoons lemon juice\n",
       "- 2 cloves garlic, minced\n",
       "- 1 teaspoon dried dill (or fresh dill, if available)\n",
       "- Salt and pepper to taste\n",
       "- Lemon slices (for garnish)\n",
       "\n",
       "**For the Quinoa Salad:**\n",
       "- 1 cup quinoa, rinsed\n",
       "- 2 cups water or vegetable broth\n",
       "- 1 cucumber, diced\n",
       "- 1 cup cherry tomatoes, halved\n",
       "- 1/4 cup red onion, finely chopped\n",
       "- 1/4 cup fresh parsley, chopped\n",
       "- 1/4 cup feta cheese, crumbled (optional)\n",
       "- 3 tablespoons olive oil\n",
       "- 2 tablespoons lemon juice\n",
       "- Salt and pepper to taste\n",
       "\n",
       "#### Instructions:\n",
       "\n",
       "1. **Prepare the Quinoa:**\n",
       "   - In a medium saucepan, bring 2 cups of water or vegetable broth to a boil. Add the rinsed quinoa, reduce the heat to low, cover, and simmer for about 15 minutes or until all the liquid is absorbed. Remove from heat and let it sit covered for 5 minutes. Fluff with a fork and let cool.\n",
       "\n",
       "2. **Preheat the Oven:**\n",
       "   - Preheat your oven to 400°F (200°C).\n",
       "\n",
       "3. **Prepare the Salmon:**\n",
       "   - In a small bowl, whisk together olive oil, lemon juice, minced garlic, dried dill, salt, and pepper.\n",
       "   - Place the salmon fillets on a baking sheet lined with parchment paper. Brush the fillets with the olive oil mixture. If desired, place lemon slices on top of each fillet for added flavor.\n",
       "\n",
       "4. **Bake the Salmon:**\n",
       "   - Bake the salmon in the preheated oven for about 12-15 minutes, or until the salmon is cooked through and flakes easily with a fork.\n",
       "\n",
       "5. **Prepare the Quinoa Salad:**\n",
       "   - In a large bowl, combine the cooked quinoa, diced cucumber, cherry tomatoes, red onion, parsley, and feta cheese (if using).\n",
       "   - In a small bowl, whisk together olive oil, lemon juice, salt, and pepper. Pour the dressing over the quinoa salad and toss to combine.\n",
       "\n",
       "6. **Serve:**\n",
       "   - Once the salmon is done, plate the salmon fillets alongside a generous serving of quinoa salad. Garnish with additional lemon wedges or fresh herbs if desired.\n",
       "\n",
       "### Enjoy your delicious Baked Salmon with Quinoa Salad!\n"
      ],
      "text/plain": [
       "<IPython.core.display.Markdown object>"
      ]
     },
     "metadata": {},
     "output_type": "display_data"
    },
    {
     "data": {
      "text/markdown": [
       "---"
      ],
      "text/plain": [
       "<IPython.core.display.Markdown object>"
      ]
     },
     "metadata": {},
     "output_type": "display_data"
    }
   ],
   "source": [
    "for idx, user_input in enumerate(user_inputs_openai, 1):\n",
    "    response = bot_openai.get_response(user_input)\n",
    "    display(Markdown(f\"### OpenAI Exchange {idx}\"))\n",
    "    display(Markdown(response))\n",
    "    display(Markdown(\"---\"))  # Separator for readability\n"
   ]
  },
  {
   "cell_type": "markdown",
   "id": "508c1a61-2ae0-4c25-859e-08a5d976ec11",
   "metadata": {},
   "source": [
    "## Initialize ChatBot with Anthropic"
   ]
  },
  {
   "cell_type": "code",
   "execution_count": 5,
   "id": "a11377f6-5699-4c69-8cac-2de81314cde0",
   "metadata": {},
   "outputs": [],
   "source": [
    "bot_anthropic = ChatBot(\n",
    "    provider=\"anthropic\",\n",
    "    model=\"claude-3-5-sonnet-20240620\",\n",
    "    temperature=0.7,\n",
    "    max_tokens=1500,\n",
    "    top_p=0.9\n",
    ")"
   ]
  },
  {
   "cell_type": "markdown",
   "id": "2a858032-0069-4a8b-b7ad-21ccf271f94d",
   "metadata": {},
   "source": [
    "## Define Anthropic user inputs"
   ]
  },
  {
   "cell_type": "code",
   "execution_count": 6,
   "id": "06c26f88-d459-4b19-8920-5b7668ab8c65",
   "metadata": {},
   "outputs": [],
   "source": [
    "user_inputs_anthropic = [\n",
    "    \"Can you suggest 5 dinner ideas for this week?\",\n",
    "    \"Give me the recipe for Monday's meal\",\n",
    "    \"Give me the recipe for Friday's meal\"\n",
    "]\n"
   ]
  },
  {
   "cell_type": "markdown",
   "id": "2d8fa5ae-6fd2-499e-979b-0ae75bc70222",
   "metadata": {},
   "source": [
    "## Perform three exchanges with Anthropic"
   ]
  },
  {
   "cell_type": "code",
   "execution_count": 7,
   "id": "ae9c0ce9-2539-43fb-90f2-9565ba38e308",
   "metadata": {},
   "outputs": [
    {
     "data": {
      "text/markdown": [
       "### Anthropic Exchange 1"
      ],
      "text/plain": [
       "<IPython.core.display.Markdown object>"
      ]
     },
     "metadata": {},
     "output_type": "display_data"
    },
    {
     "data": {
      "text/markdown": [
       "**Provider:** Anthropic | **Model:** claude-3-5-sonnet-20240620  \n",
       "**Tokens Used:** 84  \n",
       "\n",
       "**Assistant:**\n",
       "\n",
       "Certainly! Here are 5 dinner ideas for your week:\n",
       "\n",
       "1. Grilled Lemon Herb Chicken with roasted vegetables and quinoa\n",
       "\n",
       "2. Baked Salmon with asparagus and sweet potato mash\n",
       "\n",
       "3. Vegetarian Stir-Fry with tofu, mixed vegetables, and brown rice\n",
       "\n",
       "4. Slow Cooker Beef Stew with crusty bread on the side\n",
       "\n",
       "5. Homemade Pizza with your favorite toppings and a side salad\n",
       "\n",
       "These meals offer a variety of flavors and nutritional balance. You can adjust the ingredients or sides based on your preferences and dietary needs.\n"
      ],
      "text/plain": [
       "<IPython.core.display.Markdown object>"
      ]
     },
     "metadata": {},
     "output_type": "display_data"
    },
    {
     "data": {
      "text/markdown": [
       "---"
      ],
      "text/plain": [
       "<IPython.core.display.Markdown object>"
      ]
     },
     "metadata": {},
     "output_type": "display_data"
    },
    {
     "data": {
      "text/markdown": [
       "### Anthropic Exchange 2"
      ],
      "text/plain": [
       "<IPython.core.display.Markdown object>"
      ]
     },
     "metadata": {},
     "output_type": "display_data"
    },
    {
     "data": {
      "text/markdown": [
       "**Provider:** Anthropic | **Model:** claude-3-5-sonnet-20240620  \n",
       "**Tokens Used:** 220  \n",
       "\n",
       "**Assistant:**\n",
       "\n",
       "Certainly! For Monday's meal, let's go with the Grilled Lemon Herb Chicken with roasted vegetables and quinoa. Here's the recipe:\n",
       "\n",
       "Grilled Lemon Herb Chicken with Roasted Vegetables and Quinoa\n",
       "\n",
       "Ingredients:\n",
       "- 4 chicken breasts\n",
       "- 2 lemons\n",
       "- 4 cloves garlic, minced\n",
       "- 2 tbsp olive oil\n",
       "- 1 tbsp dried oregano\n",
       "- 1 tbsp dried thyme\n",
       "- Salt and pepper to taste\n",
       "- 2 cups mixed vegetables (e.g., bell peppers, zucchini, cherry tomatoes)\n",
       "- 1 cup quinoa\n",
       "- 2 cups chicken broth\n",
       "\n",
       "Instructions:\n",
       "\n",
       "1. Marinate the chicken:\n",
       "   - Mix juice of 1 lemon, 2 tbsp olive oil, minced garlic, oregano, thyme, salt, and pepper.\n",
       "   - Coat chicken breasts in the mixture and marinate for 30 minutes to 2 hours.\n",
       "\n",
       "2. Preheat oven to 400°F (200°C).\n",
       "\n",
       "3. Cook quinoa:\n",
       "   - Rinse quinoa and cook in chicken broth according to package instructions.\n",
       "\n",
       "4. Roast vegetables:\n",
       "   - Chop vegetables, toss with olive oil, salt, and pepper.\n",
       "   - Spread on a baking sheet and roast for 20-25 minutes.\n",
       "\n",
       "5. Grill chicken:\n",
       "   - Preheat grill or grill pan to medium-high heat.\n",
       "   - Grill chicken for 6-8 minutes per side, or until internal temperature reaches 165°F (74°C).\n",
       "\n",
       "6. Serve:\n",
       "   - Slice chicken and serve over quinoa with roasted vegetables on the side.\n",
       "   - Garnish with lemon wedges from the remaining lemon.\n",
       "\n",
       "Enjoy your Monday dinner!\n"
      ],
      "text/plain": [
       "<IPython.core.display.Markdown object>"
      ]
     },
     "metadata": {},
     "output_type": "display_data"
    },
    {
     "data": {
      "text/markdown": [
       "---"
      ],
      "text/plain": [
       "<IPython.core.display.Markdown object>"
      ]
     },
     "metadata": {},
     "output_type": "display_data"
    },
    {
     "data": {
      "text/markdown": [
       "### Anthropic Exchange 3"
      ],
      "text/plain": [
       "<IPython.core.display.Markdown object>"
      ]
     },
     "metadata": {},
     "output_type": "display_data"
    },
    {
     "data": {
      "text/markdown": [
       "**Provider:** Anthropic | **Model:** claude-3-5-sonnet-20240620  \n",
       "**Tokens Used:** 257  \n",
       "\n",
       "**Assistant:**\n",
       "\n",
       "Certainly! For Friday's meal, let's go with the Homemade Pizza with your favorite toppings and a side salad. Here's the recipe:\n",
       "\n",
       "Homemade Pizza with Side Salad\n",
       "\n",
       "Pizza Dough Ingredients:\n",
       "- 3 cups all-purpose flour\n",
       "- 1 tsp sugar\n",
       "- 1 tsp salt\n",
       "- 2 1/4 tsp active dry yeast\n",
       "- 1 cup warm water\n",
       "- 2 tbsp olive oil\n",
       "\n",
       "Pizza Toppings (customize as desired):\n",
       "- 1 cup pizza sauce\n",
       "- 2 cups shredded mozzarella cheese\n",
       "- Your choice of toppings (e.g., pepperoni, mushrooms, bell peppers, onions, olives)\n",
       "\n",
       "Side Salad Ingredients:\n",
       "- Mixed salad greens\n",
       "- Cherry tomatoes\n",
       "- Cucumber\n",
       "- Red onion\n",
       "- Your favorite salad dressing\n",
       "\n",
       "Instructions:\n",
       "\n",
       "1. Prepare the pizza dough:\n",
       "   - Mix flour, sugar, salt, and yeast in a large bowl.\n",
       "   - Add warm water and olive oil, mix until a dough forms.\n",
       "   - Knead for 5-7 minutes until smooth.\n",
       "   - Place in a greased bowl, cover, and let rise for 1 hour.\n",
       "\n",
       "2. Preheat oven to 450°F (230°C).\n",
       "\n",
       "3. Prepare toppings:\n",
       "   - Chop vegetables and prepare other toppings as needed.\n",
       "\n",
       "4. Assemble the pizza:\n",
       "   - Roll out the dough on a floured surface.\n",
       "   - Transfer to a baking sheet or pizza stone.\n",
       "   - Spread sauce, add cheese and toppings.\n",
       "\n",
       "5. Bake the pizza:\n",
       "   - Bake for 12-15 minutes or until crust is golden and cheese is bubbly.\n",
       "\n",
       "6. Prepare the side salad:\n",
       "   - Wash and chop salad ingredients.\n",
       "   - Toss with your favorite dressing.\n",
       "\n",
       "7. Serve:\n",
       "   - Slice the pizza and serve with the side salad.\n",
       "\n",
       "Enjoy your Friday night homemade pizza dinner!\n"
      ],
      "text/plain": [
       "<IPython.core.display.Markdown object>"
      ]
     },
     "metadata": {},
     "output_type": "display_data"
    },
    {
     "data": {
      "text/markdown": [
       "---"
      ],
      "text/plain": [
       "<IPython.core.display.Markdown object>"
      ]
     },
     "metadata": {},
     "output_type": "display_data"
    }
   ],
   "source": [
    "for idx, user_input in enumerate(user_inputs_anthropic, 1):\n",
    "    response = bot_anthropic.get_response(user_input)\n",
    "    display(Markdown(f\"### Anthropic Exchange {idx}\"))\n",
    "    display(Markdown(response))\n",
    "    display(Markdown(\"---\"))  # Separator for readability"
   ]
  },
  {
   "cell_type": "markdown",
   "id": "e8f5749a-7a46-4f54-862b-e4c9c7d8540e",
   "metadata": {},
   "source": [
    "## Initialize ChatBot with Mistral"
   ]
  },
  {
   "cell_type": "code",
   "execution_count": 8,
   "id": "7e973789-d126-438f-be67-feb90085f3b4",
   "metadata": {},
   "outputs": [],
   "source": [
    "bot_mistral = ChatBot(\n",
    "    provider=\"mistral\",\n",
    "    model=\"mistral-small-latest\",\n",
    "    temperature=0.7,\n",
    "    max_tokens=1500,\n",
    "    top_p=0.9\n",
    ")"
   ]
  },
  {
   "cell_type": "markdown",
   "id": "56bf0bc9-adee-43e6-abf5-f2fade7eafe7",
   "metadata": {},
   "source": [
    "## Define Mistral user inputs"
   ]
  },
  {
   "cell_type": "code",
   "execution_count": 9,
   "id": "36782c37-7911-4c70-8c00-d4e806316bdb",
   "metadata": {},
   "outputs": [],
   "source": [
    "user_inputs_mistral = [\n",
    "    \"Can you suggest 5 dinner ideas for this week?\",\n",
    "    \"Give me the recipe for Monday's meal\",\n",
    "    \"Give me the recipe for Friday's meal\"\n",
    "]\n"
   ]
  },
  {
   "cell_type": "markdown",
   "id": "fd89c33c-89b0-402a-97b7-30313558da16",
   "metadata": {},
   "source": [
    "## Perform three exchanges with Mistral"
   ]
  },
  {
   "cell_type": "code",
   "execution_count": 10,
   "id": "83176856-f7d1-41aa-9bb8-b30bacfb6d70",
   "metadata": {},
   "outputs": [
    {
     "data": {
      "text/markdown": [
       "### Mistral Exchange 1"
      ],
      "text/plain": [
       "<IPython.core.display.Markdown object>"
      ]
     },
     "metadata": {},
     "output_type": "display_data"
    },
    {
     "data": {
      "text/markdown": [
       "**Provider:** Mistral | **Model:** mistral-small-latest  \n",
       "**Tokens Used:** 264  \n",
       "\n",
       "**Assistant:**\n",
       "\n",
       "Absolutely, here are five dinner ideas for this week:\n",
       "\n",
       "1. **Monday - One Pan Lemon Herb Chicken with Asparagus**\n",
       "   - Season chicken breasts with salt, pepper, garlic powder, and Italian herbs.\n",
       "   - Toss asparagus with olive oil, salt, and pepper.\n",
       "   - Place chicken and asparagus in a pan, squeeze lemon juice over everything, and bake at 400°F (200°C) for 25-30 minutes.\n",
       "\n",
       "2. **Tuesday - Vegetarian Stuffed Bell Peppers**\n",
       "   - Cook quinoa and mix with black beans, corn, diced tomatoes, onion, garlic, and spices.\n",
       "   - Stuff the mixture into hollowed bell peppers and bake at 375°F (190°C) for 25-30 minutes.\n",
       "   - Top with shredded cheese before serving.\n",
       "\n",
       "3. **Wednesday - 15-Minute Creamy Tomato Pasta**\n",
       "   - Cook pasta according to package instructions.\n",
       "   - In a separate pan, sauté garlic, then add canned tomatoes, tomato paste, salt, pepper, and red pepper flakes.\n",
       "   - Stir in heavy cream and simmer. Toss cooked pasta in the sauce and serve with grated Parmesan.\n",
       "\n",
       "4. **Thursday - Sheet Pan Shrimp Fajitas**\n",
       "   - Toss shrimp, sliced bell peppers, and onions with olive oil, fajita seasoning, salt, and pepper.\n",
       "   - Spread the mixture on a sheet pan and bake at 400°F (200°C) for 10-12 minutes.\n",
       "   - Serve with warm tortillas, avocado, and lime wedges.\n",
       "\n",
       "5. **Friday - Easy Baked Salmon with Sweet Potato Fries**\n",
       "   - Season salmon fillets with salt, pepper, garlic powder, and lemon zest.\n",
       "   - Cut sweet potatoes into fries, toss with olive oil, salt, and pepper, and bake at 425°F (220°C) for 20-25 minutes.\n",
       "   - Bake salmon at 400°F (200°C) for 12-15 minutes and serve with the sweet potato fries.\n"
      ],
      "text/plain": [
       "<IPython.core.display.Markdown object>"
      ]
     },
     "metadata": {},
     "output_type": "display_data"
    },
    {
     "data": {
      "text/markdown": [
       "---"
      ],
      "text/plain": [
       "<IPython.core.display.Markdown object>"
      ]
     },
     "metadata": {},
     "output_type": "display_data"
    },
    {
     "data": {
      "text/markdown": [
       "### Mistral Exchange 2"
      ],
      "text/plain": [
       "<IPython.core.display.Markdown object>"
      ]
     },
     "metadata": {},
     "output_type": "display_data"
    },
    {
     "data": {
      "text/markdown": [
       "**Provider:** Mistral | **Model:** mistral-small-latest  \n",
       "**Tokens Used:** 284  \n",
       "\n",
       "**Assistant:**\n",
       "\n",
       "Here's the recipe for Monday's dinner: **One Pan Lemon Herb Chicken with Asparagus**\n",
       "\n",
       "**Ingredients:**\n",
       "\n",
       "* 4 boneless, skinless chicken breasts\n",
       "* 1 bunch asparagus, trimmed\n",
       "* 1 lemon, zested and juiced\n",
       "* 3 cloves garlic, minced\n",
       "* 2 tbsp olive oil\n",
       "* 1 tsp dried Italian herb seasoning (or a mix of oregano, basil, and thyme)\n",
       "* 1 tsp salt, divided\n",
       "* ½ tsp black pepper, divided\n",
       "* ½ tsp garlic powder\n",
       "* Optional: freshly grated Parmesan cheese, for serving\n",
       "\n",
       "**Instructions:**\n",
       "\n",
       "1. Preheat your oven to 400°F (200°C) and line a large baking sheet with parchment paper.\n",
       "\n",
       "2. In a small bowl, combine 1 tbsp olive oil, lemon zest, lemon juice, minced garlic, Italian herb seasoning, ½ tsp salt, and ¼ tsp black pepper. Mix well to create a lemon herb mixture.\n",
       "\n",
       "3. Pat the chicken breasts dry with a paper towel. Season both sides with the remaining ½ tsp salt, ¼ tsp black pepper, and garlic powder.\n",
       "\n",
       "4. Place the chicken breasts on the prepared baking sheet. Brush or spoon the lemon herb mixture evenly over the chicken.\n",
       "\n",
       "5. In a separate bowl, toss the trimmed asparagus with the remaining 1 tbsp olive oil, ¼ tsp salt, and ¼ tsp black pepper.\n",
       "\n",
       "6. Arrange the asparagus around the chicken on the baking sheet.\n",
       "\n",
       "7. Bake for 25-30 minutes, or until the chicken is cooked through (internal temperature should reach 165°F/74°C) and the asparagus is tender.\n",
       "\n",
       "8. Remove from the oven and let rest for a few minutes before serving.\n",
       "\n",
       "9. Optional: Sprinkle with freshly grated Parmesan cheese before serving.\n",
       "\n",
       "Enjoy your One Pan Lemon Herb Chicken with Asparagus! This meal is perfect for a busy weeknight, as it requires minimal prep and cleanup.\n"
      ],
      "text/plain": [
       "<IPython.core.display.Markdown object>"
      ]
     },
     "metadata": {},
     "output_type": "display_data"
    },
    {
     "data": {
      "text/markdown": [
       "---"
      ],
      "text/plain": [
       "<IPython.core.display.Markdown object>"
      ]
     },
     "metadata": {},
     "output_type": "display_data"
    },
    {
     "data": {
      "text/markdown": [
       "### Mistral Exchange 3"
      ],
      "text/plain": [
       "<IPython.core.display.Markdown object>"
      ]
     },
     "metadata": {},
     "output_type": "display_data"
    },
    {
     "data": {
      "text/markdown": [
       "**Provider:** Mistral | **Model:** mistral-small-latest  \n",
       "**Tokens Used:** 316  \n",
       "\n",
       "**Assistant:**\n",
       "\n",
       "Here's the recipe for Friday's dinner: **Easy Baked Salmon with Sweet Potato Fries**\n",
       "\n",
       "**Ingredients:**\n",
       "\n",
       "* 4 salmon fillets (about 6 oz each)\n",
       "* 2 large sweet potatoes\n",
       "* 3 tbsp olive oil, divided\n",
       "* 1 tsp salt, divided\n",
       "* ½ tsp black pepper, divided\n",
       "* ½ tsp garlic powder\n",
       "* 1 tsp dried dill (optional)\n",
       "* Lemon wedges, for serving\n",
       "* Fresh parsley, chopped (for garnish, optional)\n",
       "\n",
       "**Instructions:**\n",
       "\n",
       "1. Preheat your oven to 425°F (220°C) and line two baking sheets with parchment paper.\n",
       "\n",
       "2. **Prepare the sweet potato fries:**\n",
       "   - Scrub the sweet potatoes clean and cut them into ¼-inch to ½-inch thick fries.\n",
       "   - In a large bowl, toss the sweet potato fries with 2 tbsp olive oil, ½ tsp salt, and ¼ tsp black pepper.\n",
       "   - Spread the fries out in a single layer on one of the prepared baking sheets.\n",
       "   - Bake for 20-25 minutes, flipping halfway through, until golden brown and crispy.\n",
       "\n",
       "3. **Prepare the salmon:**\n",
       "   - While the fries are baking, pat the salmon fillets dry with a paper towel.\n",
       "   - In a small bowl, combine 1 tbsp olive oil, ½ tsp salt, ¼ tsp black pepper, garlic powder, and dried dill (if using).\n",
       "   - Rub the seasoning mixture evenly onto the salmon fillets.\n",
       "   - Place the salmon fillets on the second prepared baking sheet, skin-side down.\n",
       "\n",
       "4. After the fries have been baking for about 15 minutes, place the salmon in the oven and bake for 12-15 minutes, or until the salmon is cooked through and flakes easily with a fork. Be careful not to overcook.\n",
       "\n",
       "5. Remove both the sweet potato fries and the salmon from the oven.\n",
       "\n",
       "6. Serve the salmon with the sweet potato fries, lemon wedges, and a sprinkle of chopped fresh parsley (if using).\n",
       "\n",
       "Enjoy your Easy Baked Salmon with Sweet Potato Fries! This meal is a delicious and balanced option to end your week.\n"
      ],
      "text/plain": [
       "<IPython.core.display.Markdown object>"
      ]
     },
     "metadata": {},
     "output_type": "display_data"
    },
    {
     "data": {
      "text/markdown": [
       "---"
      ],
      "text/plain": [
       "<IPython.core.display.Markdown object>"
      ]
     },
     "metadata": {},
     "output_type": "display_data"
    }
   ],
   "source": [
    "for idx, user_input in enumerate(user_inputs_mistral, 1):\n",
    "    response = bot_mistral.get_response(user_input)\n",
    "    display(Markdown(f\"### Mistral Exchange {idx}\"))\n",
    "    display(Markdown(response))\n",
    "    display(Markdown(\"---\"))  # Separator for readability"
   ]
  },
  {
   "cell_type": "code",
   "execution_count": null,
   "id": "aef5c7e4-9bf6-4a4f-8003-4ef9f35f0f75",
   "metadata": {},
   "outputs": [],
   "source": []
  }
 ],
 "metadata": {
  "kernelspec": {
   "display_name": "Python 3 (ipykernel)",
   "language": "python",
   "name": "python3"
  },
  "language_info": {
   "codemirror_mode": {
    "name": "ipython",
    "version": 3
   },
   "file_extension": ".py",
   "mimetype": "text/x-python",
   "name": "python",
   "nbconvert_exporter": "python",
   "pygments_lexer": "ipython3",
   "version": "3.12.7"
  }
 },
 "nbformat": 4,
 "nbformat_minor": 5
}
